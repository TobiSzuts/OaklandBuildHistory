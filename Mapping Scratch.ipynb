{
 "cells": [
  {
   "cell_type": "code",
   "execution_count": 1,
   "metadata": {
    "collapsed": true
   },
   "outputs": [],
   "source": [
    "f = 'Alameda County Parcel Boundaries.geojson'"
   ]
  },
  {
   "cell_type": "markdown",
   "metadata": {},
   "source": [
    "Format info for a .geojson file found here: http://geojson.org/geojson-spec.html\n",
    "\n",
    "This file has a small number of line breaks and is 500 MB in size: while it might be able to read into memory all at once, I'd like to make this analysis memory efficient in case a larger file comes along.  So, read first thousand characters to see what the format looks like."
   ]
  },
  {
   "cell_type": "code",
   "execution_count": 2,
   "metadata": {
    "collapsed": false
   },
   "outputs": [
    {
     "name": "stdout",
     "output_type": "stream",
     "text": [
      "{\n",
      "  \"type\": \"FeatureCollection\",\n",
      "  \"features\": [\n",
      "    {\"type\":\"Feature\",\"properties\":{\"shape_st_2\":\"682.98789617\",\"fid_parcel\":\"1\",\"shape_stle\":\"682.98789617\",\"book\":\"48\",\"page\":\"6298\",\"clca_categ\":null,\"date_updat\":\"2004-08-09\",\"centroid_y\":\"2101850.09674882\",\"editor\":\"Public Works\",\"sub_parcel\":null,\"shape_st_4\":\"682.987896169\",\"apn_sort\":\"048 629806800\",\"shape_st_1\":\"27216.84179688\",\"parcel\":\"68\",\"centroid_x\":\"6093120.57110886\",\"date_creat\":\"2004-08-09\",\"shape_star\":\"27216.84179688\",\"apn\":\"48-6298-68\",\"shape_st_3\":\"27216.8417969\",\"comments\":null},\"geometry\":{\"type\":\"MultiPolygon\",\"coordinates\":[[[[-122.12036188789048,37.756209609069614],[-122.12078602691324,37.75583754643068],[-122.1207869\n"
     ]
    }
   ],
   "source": [
    "fid = open(f, 'r')\n",
    "data = []\n",
    "for x in range(700) :\n",
    "    data.append(fid.read(1))\n",
    "  \n",
    "fid.close()\n",
    "\n",
    "data = ''.join(data)\n",
    "print(data)"
   ]
  },
  {
   "cell_type": "markdown",
   "metadata": {},
   "source": [
    "Use ijson to parse this further..."
   ]
  },
  {
   "cell_type": "code",
   "execution_count": 3,
   "metadata": {
    "collapsed": false
   },
   "outputs": [
    {
     "name": "stdout",
     "output_type": "stream",
     "text": [
      "('', 'start_map', None)\n",
      "('', 'map_key', 'type')\n",
      "('type', 'string', 'FeatureCollection')\n",
      "('', 'map_key', 'features')\n",
      "('features', 'start_array', None)\n",
      "('features.item', 'start_map', None)\n",
      "('features.item', 'map_key', 'type')\n",
      "('features.item.type', 'string', 'Feature')\n",
      "('features.item', 'map_key', 'properties')\n",
      "('features.item.properties', 'start_map', None)\n"
     ]
    }
   ],
   "source": [
    "import ijson\n",
    "with open(f, 'r') as fid :\n",
    "    for (i,o) in zip(range(10), ijson.parse(fid)) :\n",
    "        print(o)\n",
    "    fid.close()"
   ]
  },
  {
   "cell_type": "markdown",
   "metadata": {},
   "source": [
    "Here's the structure of the second item (first item is too long)."
   ]
  },
  {
   "cell_type": "code",
   "execution_count": 4,
   "metadata": {
    "collapsed": false
   },
   "outputs": [
    {
     "name": "stdout",
     "output_type": "stream",
     "text": [
      "{'geometry': {'coordinates': [[[[Decimal('-122.12383758245336'),\n",
      "                                 Decimal('37.75571233182055')],\n",
      "                                [Decimal('-122.12417229112891'),\n",
      "                                 Decimal('37.755581544780114')],\n",
      "                                [Decimal('-122.12417786881252'),\n",
      "                                 Decimal('37.755594075381474')],\n",
      "                                [Decimal('-122.12424662138503'),\n",
      "                                 Decimal('37.75574856188482')],\n",
      "                                [Decimal('-122.12388534031416'),\n",
      "                                 Decimal('37.75586057852918')],\n",
      "                                [Decimal('-122.1238793355483'),\n",
      "                                 Decimal('37.75583734460038')],\n",
      "                                [Decimal('-122.12387281699273'),\n",
      "                                 Decimal('37.75581420454203')],\n",
      "                                [Decimal('-122.12386579509725'),\n",
      "                                 Decimal('37.75579115437591')],\n",
      "                                [Decimal('-122.12385826751844'),\n",
      "                                 Decimal('37.7557682073795')],\n",
      "                                [Decimal('-122.12385023293253'),\n",
      "                                 Decimal('37.755745363222445')],\n",
      "                                [Decimal('-122.12384169955205'),\n",
      "                                 Decimal('37.755722636082446')],\n",
      "                                [Decimal('-122.12383758245336'),\n",
      "                                 Decimal('37.75571233182055')]]]],\n",
      "              'type': 'MultiPolygon'},\n",
      " 'properties': {'apn': '48-6298-3-2',\n",
      "                'apn_sort': '048 629800302',\n",
      "                'book': '48',\n",
      "                'centroid_x': '6092185.78537953',\n",
      "                'centroid_y': '2101712.04505466',\n",
      "                'clca_categ': None,\n",
      "                'comments': None,\n",
      "                'date_creat': '2004-08-09',\n",
      "                'date_updat': '2004-08-09',\n",
      "                'editor': 'Public Works',\n",
      "                'fid_parcel': '2',\n",
      "                'page': '6298',\n",
      "                'parcel': '3',\n",
      "                'shape_st_1': '6525.49414063',\n",
      "                'shape_st_2': '340.21989429',\n",
      "                'shape_st_3': '6525.49414063',\n",
      "                'shape_st_4': '340.21989429',\n",
      "                'shape_star': '6525.49414063',\n",
      "                'shape_stle': '340.21989429',\n",
      "                'sub_parcel': '2'},\n",
      " 'type': 'Feature'}\n"
     ]
    }
   ],
   "source": [
    "import pprint\n",
    "\n",
    "with open(f, 'r') as fid :\n",
    "    objects = ijson.items(fid, 'features.item')\n",
    "    for (i, o) in zip(range(2), objects) :\n",
    "        pass\n",
    "    fid.close()\n",
    "pprint.pprint(o)"
   ]
  },
  {
   "cell_type": "markdown",
   "metadata": {},
   "source": [
    "How many records are there?"
   ]
  },
  {
   "cell_type": "code",
   "execution_count": null,
   "metadata": {
    "collapsed": true
   },
   "outputs": [],
   "source": [
    "objects = ijson.items(fid, 'features.item.properties.fid_parcel')\n",
    "for (i, o) in enumerate(objects):\n",
    "    pass\n",
    "print(i+1)"
   ]
  },
  {
   "cell_type": "markdown",
   "metadata": {},
   "source": [
    "The output would be 399212.  Since it takes about a second to parse 1000 records, that took about 7 minutes to compute."
   ]
  },
  {
   "cell_type": "markdown",
   "metadata": {},
   "source": [
    "Now, let's extract all addresses within 0.5 km, and save it as a Panda HDF5 object."
   ]
  },
  {
   "cell_type": "markdown",
   "metadata": {},
   "source": [
    "Is there a chance that some records have a street address?  No: run 'grep -l \"addr\" <FILENAME>', and no dice.  OK, so how to convert this to valid addresses?"
   ]
  },
  {
   "cell_type": "markdown",
   "metadata": {},
   "source": [
    "Want latitude = 37.805553, longitude = -122.239429, which corresponds to the Armenian church."
   ]
  },
  {
   "cell_type": "code",
   "execution_count": null,
   "metadata": {
    "collapsed": true
   },
   "outputs": [],
   "source": []
  }
 ],
 "metadata": {
  "kernelspec": {
   "display_name": "Python 3",
   "language": "python",
   "name": "python3"
  },
  "language_info": {
   "codemirror_mode": {
    "name": "ipython",
    "version": 3
   },
   "file_extension": ".py",
   "mimetype": "text/x-python",
   "name": "python",
   "nbconvert_exporter": "python",
   "pygments_lexer": "ipython3",
   "version": "3.5.1"
  }
 },
 "nbformat": 4,
 "nbformat_minor": 0
}
