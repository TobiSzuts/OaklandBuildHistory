{
 "cells": [
  {
   "cell_type": "raw",
   "metadata": {},
   "source": [
    "I was curious how my neighborhood in Oakland, Cleveland Heights, was developed: which house was built first?  Which last?  How did this pattern fit with how the city was developed.  In particular, how much of that history can be read now.\n",
    "\n",
    "To find that data for this, I needed to know when each house was built, where each house was, and a list of houses.  Thanks in large part to the great collection of Oakland data at XXURLXX.  Initially, I found a GeoJSON file for containing parcel info for the county of Alameda, which includes Oakland and extends from Berkeley to Fremont north-to-south, and from the Bay to beyond Livermore east-to-west.  This was a huge file, and couldn't be processed in memory.  Several days later, I found parcel info for the City of Oakland from 20XX that conveniently fit into memory."
   ]
  },
  {
   "cell_type": "code",
   "execution_count": null,
   "metadata": {
    "collapsed": true
   },
   "outputs": [],
   "source": [
    "< insert code for reading shape file, print first entry >"
   ]
  },
  {
   "cell_type": "raw",
   "metadata": {},
   "source": [
    "Fortunately, each entry also includes the street address.  If it didn't, another call to reverse geocode the location would be required (from Google, for instance).  Note that there are 97,000 entries in all.\n",
    "\n",
    "The construction date info exists on Zillow, so it was a question of compiling this database from repeated API calls.  To work within throughput limitations (1000 queries per day), the shapefile array was rewritten as a dictionary.  The key chosen was the distance from a central marker - the Armenian Church on the top of the hill at McKinley and Spruce - so that entries could be processed in order.  At the throughput limit, it would take 97 days (~3 months) to process all data for Oakland."
   ]
  },
  {
   "cell_type": "code",
   "execution_count": null,
   "metadata": {
    "collapsed": true
   },
   "outputs": [],
   "source": [
    "< code to convert to dict >"
   ]
  },
  {
   "cell_type": "markdown",
   "metadata": {},
   "source": [
    "To allow the processing to work piece-wise, the input dictionary is processed starting with the smallest key.  After each entry is sent to the zillow API, it is popped from the input dictionary and placed in the output dictionary if the response is valid.  If the response is invalid, it is placed into an error dictionary for later processing.  The most common error was code 508, 'no exact match found for input address'.  This was caused by the address not being in the Zillow database, such as the case for commercial buildings, churches, schools, etc., but could also be caused by an invalid address, such as a parcel without a street address ('None MacArthur Blvd')."
   ]
  },
  {
   "cell_type": "code",
   "execution_count": null,
   "metadata": {
    "collapsed": true
   },
   "outputs": [],
   "source": [
    "< code to iteratively process data >"
   ]
  },
  {
   "cell_type": "raw",
   "metadata": {},
   "source": [
    "The final step to preparing the database is to write it back to a shapefile so it can be quickly projected onto a choropleth map.  The schema from the original file is modified to include useful fields ('yearBuilt'), any extra fields are discarded to speed up processing time, and it's written back to file."
   ]
  },
  {
   "cell_type": "code",
   "execution_count": null,
   "metadata": {
    "collapsed": true
   },
   "outputs": [],
   "source": [
    "< code to rewrite shapefile >"
   ]
  },
  {
   "cell_type": "raw",
   "metadata": {},
   "source": [
    "Since the initial question was about geographic patterns, the first step is to create a choropleth map.  A choropleth map shows how a variable changes over geographic regions.  In this case, the variable is the year the house was built, and the region is the parcel.  \n",
    "\n",
    "There is no straightforward implementation for this simple question, but there are multiple packages in python that can be strung together to draw a map.  In general, to map a round world onto a cartesian grid, a projection system must be first chosen.  The coordinates as given as (latitude, longitude) pairs are converted to (x, y) pairs.  then..."
   ]
  }
 ],
 "metadata": {
  "kernelspec": {
   "display_name": "Python 3",
   "language": "python",
   "name": "python3"
  },
  "language_info": {
   "codemirror_mode": {
    "name": "ipython",
    "version": 3
   },
   "file_extension": ".py",
   "mimetype": "text/x-python",
   "name": "python",
   "nbconvert_exporter": "python",
   "pygments_lexer": "ipython3",
   "version": "3.5.1"
  }
 },
 "nbformat": 4,
 "nbformat_minor": 0
}
